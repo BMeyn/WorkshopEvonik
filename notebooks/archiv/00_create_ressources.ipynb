{
 "metadata": {
  "language_info": {
   "codemirror_mode": {
    "name": "ipython",
    "version": 3
   },
   "file_extension": ".py",
   "mimetype": "text/x-python",
   "name": "python",
   "nbconvert_exporter": "python",
   "pygments_lexer": "ipython3",
   "version": "3.6.12-final"
  },
  "orig_nbformat": 2,
  "kernelspec": {
   "name": "python3",
   "display_name": "Python 3",
   "language": "python"
  }
 },
 "nbformat": 4,
 "nbformat_minor": 2,
 "cells": [
  {
   "source": [
    "# Create Azure Machine Learning Infrastructure"
   ],
   "cell_type": "markdown",
   "metadata": {}
  },
  {
   "source": [
    "## Create maschine learning workspace"
   ],
   "cell_type": "markdown",
   "metadata": {}
  },
  {
   "cell_type": "code",
   "execution_count": null,
   "metadata": {},
   "outputs": [],
   "source": [
    "from azureml.core import Workspace\n",
    "\n",
    "ressource_group_name = \"Evonik\"\n",
    "\n",
    "ws = Workspace.create(name=\"DataScienceWS\", create_resource_group=True, exist_ok=True, resource_group=\"MLOps-Demo\", subscription_id=\"f7256e7b-4859-4bf1-af37-6d8bbf16129f\")"
   ]
  },
  {
   "source": [
    "## Create Compute Cluster"
   ],
   "cell_type": "markdown",
   "metadata": {}
  },
  {
   "cell_type": "code",
   "execution_count": null,
   "metadata": {},
   "outputs": [],
   "source": [
    "from azureml.core.compute import ComputeTarget, AmlCompute\n",
    "from azureml.core.compute_target import ComputeTargetException\n",
    "\n",
    "# Choose a name for your CPU cluster\n",
    "cpu_cluster_name = \"Compute-cluster\"\n",
    "\n",
    "# Verify that cluster does not exist already\n",
    "try:\n",
    "    cpu_cluster = ComputeTarget(workspace=ws, name=cpu_cluster_name)\n",
    "    print('Found existing cluster, use it.')\n",
    "except ComputeTargetException:\n",
    "    compute_config = AmlCompute.provisioning_configuration(vm_size='STANDARD_D2_V2',\n",
    "                                                           max_nodes=4)\n",
    "    cpu_cluster = ComputeTarget.create(ws, cpu_cluster_name, compute_config)\n",
    "\n",
    "    cpu_cluster.wait_for_completion(show_output=True)"
   ]
  },
  {
   "source": [
    "## Create Azure Kubernetes Service"
   ],
   "cell_type": "markdown",
   "metadata": {}
  },
  {
   "cell_type": "code",
   "execution_count": null,
   "metadata": {},
   "outputs": [],
   "source": [
    "from azureml.core.compute import AksCompute, ComputeTarget\n",
    "\n",
    "aks_name = 'AKS-Service' \n",
    "\n",
    "# Verify that cluster does not exist already\n",
    "try:\n",
    "    aks_service = AksCompute(ws, aks_name)\n",
    "    print('Found existing aks-service, use it.')\n",
    "except:\n",
    "    \n",
    "    # Create the Aks-Service definition\n",
    "    aks_config = AksCompute.provisioning_configuration(vm_size = \"Standard_D3_v2\", agent_count = 1, location = \"eastus\")\n",
    "    \n",
    "    # Create the aks-cluster\n",
    "    aks_target = ComputeTarget.create(workspace = ws, name = aks_name, provisioning_configuration = aks_config)\n",
    "\n",
    "    aks_target.wait_for_completion(show_output=True)"
   ]
  }
 ]
}