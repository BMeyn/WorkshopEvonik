{
 "metadata": {
  "language_info": {
   "codemirror_mode": {
    "name": "ipython",
    "version": 3
   },
   "file_extension": ".py",
   "mimetype": "text/x-python",
   "name": "python",
   "nbconvert_exporter": "python",
   "pygments_lexer": "ipython3",
   "version": "3.7.6-final"
  },
  "orig_nbformat": 2,
  "kernelspec": {
   "name": "python3",
   "display_name": "Python 3",
   "language": "python"
  }
 },
 "nbformat": 4,
 "nbformat_minor": 2,
 "cells": [
  {
   "source": [
    "# Create AML Compute and Deployment Ressoruces"
   ],
   "cell_type": "markdown",
   "metadata": {}
  },
  {
   "source": [
    "1. Create a Azure Machine Learning Workspace\n",
    "2. Create a Compute Cluster\n",
    "3. Create a Azure Kubernetes Service for deployment (optional) "
   ],
   "cell_type": "markdown",
   "metadata": {}
  },
  {
   "source": [
    "# 1. Create a Azure Machine learning Workspace"
   ],
   "cell_type": "markdown",
   "metadata": {}
  },
  {
   "cell_type": "code",
   "execution_count": null,
   "metadata": {},
   "outputs": [],
   "source": [
    "from azureml.core import Workspace\n",
    "\n",
    "ws = Workspace.create(name='<aml-workspace-name>',\n",
    "                      subscription_id='<azure-subscription-id>',\n",
    "                      resource_group='<azure-ressource-group-name>',\n",
    "                      create_resource_group=True,\n",
    "                      location='<azure-ressource-location>')"
   ]
  },
  {
   "source": [
    "## 1.A Get the AML Connection Config "
   ],
   "cell_type": "markdown",
   "metadata": {}
  },
  {
   "cell_type": "code",
   "execution_count": null,
   "metadata": {},
   "outputs": [],
   "source": [
    "import os\n",
    "\n",
    "# create the .azure direcory \n",
    "if not os.path.exists(\".azure\"):\n",
    "    os.makedirs(\".azure\")\n",
    "\n",
    "# save the workspace config to the .azure directory\n",
    "ws.write_config(path=\".azure\", file_name=\"config.json\")"
   ]
  },
  {
   "source": [
    "## 1.B Connect to the Workspace with the config file"
   ],
   "cell_type": "markdown",
   "metadata": {}
  },
  {
   "cell_type": "code",
   "execution_count": null,
   "metadata": {},
   "outputs": [],
   "source": [
    "from azureml.core import Workspace\n",
    "\n",
    "ws = Workspace.from_config(\".azure\")"
   ]
  },
  {
   "source": [
    "# 2. Create a Compute Cluster"
   ],
   "cell_type": "markdown",
   "metadata": {}
  },
  {
   "cell_type": "code",
   "execution_count": 2,
   "metadata": {},
   "outputs": [
    {
     "output_type": "stream",
     "name": "stdout",
     "text": [
      "Creating\n",
      "Succeeded\n",
      "AmlCompute wait for completion finished\n",
      "\n",
      "Minimum number of nodes requested have been provisioned\n"
     ]
    }
   ],
   "source": [
    "from azureml.core.compute import ComputeTarget, AmlCompute\n",
    "from azureml.core.compute_target import ComputeTargetException\n",
    "\n",
    "# Choose a name for your CPU cluster\n",
    "cpu_cluster_name = \"cpu-cluster\"\n",
    "\n",
    "# Verify that cluster does not exist already\n",
    "try:\n",
    "    cpu_cluster = ComputeTarget(workspace=ws, name=cpu_cluster_name)\n",
    "    print('Found existing cluster, use it.')\n",
    "except ComputeTargetException:\n",
    "    compute_config = AmlCompute.provisioning_configuration(vm_size='STANDARD_D2_V2',\n",
    "                                                           max_nodes=4)\n",
    "    cpu_cluster = ComputeTarget.create(ws, cpu_cluster_name, compute_config)\n",
    "\n",
    "    cpu_cluster.wait_for_completion(show_output=True)"
   ]
  },
  {
   "source": [
    "# 3. Create a Azure Kubernetes Service for deployment (optional) "
   ],
   "cell_type": "markdown",
   "metadata": {}
  },
  {
   "cell_type": "code",
   "execution_count": null,
   "metadata": {},
   "outputs": [],
   "source": [
    "from azureml.core.compute import AksCompute, ComputeTarget\n",
    "\n",
    "aks_name = 'aks-service' \n",
    "\n",
    "# Verify that cluster does not exist already\n",
    "try:\n",
    "    aks_service = AksCompute(ws, aks_name)\n",
    "    print('Found existing aks-service, use it.')\n",
    "except:\n",
    "    \n",
    "    # Create the Aks-Service definition\n",
    "    aks_config = AksCompute.provisioning_configuration(vm_size = \"Standard_D3_v2\", agent_count = 1, location = \"eastus\")\n",
    "    \n",
    "    # Create the aks-cluster\n",
    "    aks_target = ComputeTarget.create(workspace = ws, name = aks_name, provisioning_configuration = aks_config)\n",
    "\n",
    "    aks_target.wait_for_completion(show_output=True)"
   ]
  }
 ]
}